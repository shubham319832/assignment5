{
 "cells": [
  {
   "cell_type": "code",
   "execution_count": 2,
   "id": "4b56e28d",
   "metadata": {},
   "outputs": [
    {
     "name": "stdout",
     "output_type": "stream",
     "text": [
      "123333\n",
      "0\n"
     ]
    }
   ],
   "source": [
    "\n",
    "#Q1. Given a list of integers, write a function to return the sum of all prime numbers in that list.numbers=input(\"\").split(' ')\n",
    "sum=0\n",
    "for n in numbers:\n",
    "    n=int(n)\n",
    "    isPrime=True\n",
    "    if n > 1:\n",
    "       \n",
    "        for i in range(2, n):\n",
    "            if (n % i) == 0:\n",
    "                isPrime=False\n",
    "                break\n",
    "        if isPrime:\n",
    "            sum+=n\n",
    "\n",
    "\n",
    "\n",
    "print(str(sum))"
   ]
  },
  {
   "cell_type": "code",
   "execution_count": 4,
   "id": "28b25995",
   "metadata": {},
   "outputs": [
    {
     "name": "stdout",
     "output_type": "stream",
     "text": [
      "Original list : [1, 4, 5, 7, 8, 10]\n",
      "Is the list strictly increasing ? : True\n"
     ]
    }
   ],
   "source": [
    "#Q2. Given a list of integers, write a function to check whether the list is strictly increasing or not.\n",
    "\n",
    "\n",
    "list = [1, 4, 5, 7, 8, 10]\n",
    "  \n",
    "\n",
    "print (\"Original list : \" + str(list))\n",
    "  \n",
    "result = all(i < j for i, j in zip(list,list[1:]))\n",
    "  \n",
    "\n",
    "print (\"Is the list strictly increasing ? : \" + str(result))"
   ]
  },
  {
   "cell_type": "code",
   "execution_count": 6,
   "id": "ebd41e12",
   "metadata": {},
   "outputs": [],
   "source": [
    "#Q3. Write a function to check whether a given list is expanding or not (the difference between adjacent elements should keep on increasing).\n",
    "\n",
    "\n",
    "def expand(m):\n",
    "    a = abs(m[1] - m[0])\n",
    "    b = abs(m[2] - m[1])\n",
    "    \n",
    "    if a >= b:\n",
    "        return False\n",
    "    \n",
    "    else:\n",
    "        for i in range(3,len(m)):\n",
    "            c = abs(m[i] - m[i-1])\n",
    "            if c <= b:\n",
    "                return False\n",
    "            b = c\n",
    "        else:\n",
    "            return True"
   ]
  },
  {
   "cell_type": "code",
   "execution_count": 7,
   "id": "5d8f23ef",
   "metadata": {},
   "outputs": [
    {
     "data": {
      "text/plain": [
       "False"
      ]
     },
     "execution_count": 7,
     "metadata": {},
     "output_type": "execute_result"
    }
   ],
   "source": [
    "expand([1,4,5,9,8])"
   ]
  },
  {
   "cell_type": "code",
   "execution_count": null,
   "id": "a7d2f108",
   "metadata": {},
   "outputs": [],
   "source": [
    "#Q4. Write a function to calculate all permutations of a given string. (Without using itertools)\n",
    "\n",
    "\n",
    "def permutation(n, ans):\n",
    "    if (len(n) == 0):\n",
    "        print(ans, end = \"  \")\n",
    "        return\n",
    "     \n",
    "    for i in range(len(n)):\n",
    "        ch = n[i]\n",
    "        left = n[0:i]\n",
    "        right = n[i + 1:]\n",
    "        rest = left + right\n",
    "        permutation(rest, ans + ch)\n",
    " \n",
    "\n",
    "ans = \"\"\n",
    " \n",
    "n = input(\"Enter the string : \")\n",
    " \n",
    "print(\"All possible strings are : \")\n",
    "permutation(n, ans)"
   ]
  },
  {
   "cell_type": "code",
   "execution_count": null,
   "id": "e03373f2",
   "metadata": {},
   "outputs": [],
   "source": []
  }
 ],
 "metadata": {
  "kernelspec": {
   "display_name": "Python 3",
   "language": "python",
   "name": "python3"
  },
  "language_info": {
   "codemirror_mode": {
    "name": "ipython",
    "version": 3
   },
   "file_extension": ".py",
   "mimetype": "text/x-python",
   "name": "python",
   "nbconvert_exporter": "python",
   "pygments_lexer": "ipython3",
   "version": "3.8.8"
  }
 },
 "nbformat": 4,
 "nbformat_minor": 5
}
